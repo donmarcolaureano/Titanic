{
 "cells": [
  {
   "cell_type": "markdown",
   "id": "d9fc4b94-b563-449d-b85d-7e887586b921",
   "metadata": {
    "tags": []
   },
   "source": [
    "# Cleaning the infamous Titanic Data Set"
   ]
  },
  {
   "cell_type": "code",
   "execution_count": 29,
   "id": "0ed9670f-fd75-471b-9e5a-cd7ebc7fcabb",
   "metadata": {
    "tags": []
   },
   "outputs": [],
   "source": [
    "# imports\n",
    "import pandas as pd\n",
    "import missingno as msno"
   ]
  },
  {
   "cell_type": "code",
   "execution_count": 31,
   "id": "f7953c40-78c7-44f0-92ea-5cb3c990a137",
   "metadata": {
    "tags": []
   },
   "outputs": [
    {
     "ename": "FileNotFoundError",
     "evalue": "[Errno 2] No such file or directory: '/Users/marcolaureano2/Documents/GitHub/Titanic/Data/titanic_dirty.csv'",
     "output_type": "error",
     "traceback": [
      "\u001b[0;31m---------------------------------------------------------------------------\u001b[0m",
      "\u001b[0;31mFileNotFoundError\u001b[0m                         Traceback (most recent call last)",
      "Cell \u001b[0;32mIn[31], line 2\u001b[0m\n\u001b[1;32m      1\u001b[0m \u001b[38;5;66;03m# load data as dataframe\u001b[39;00m\n\u001b[0;32m----> 2\u001b[0m df \u001b[38;5;241m=\u001b[39m \u001b[43mpd\u001b[49m\u001b[38;5;241;43m.\u001b[39;49m\u001b[43mread_csv\u001b[49m\u001b[43m(\u001b[49m\u001b[38;5;124;43m\"\u001b[39;49m\u001b[38;5;124;43m/Users/marcolaureano2/Documents/GitHub/Titanic/Data/titanic_dirty.csv\u001b[39;49m\u001b[38;5;124;43m\"\u001b[39;49m\u001b[43m)\u001b[49m\n\u001b[1;32m      3\u001b[0m df\n",
      "File \u001b[0;32m/opt/anaconda3/envs/dojo-env/lib/python3.10/site-packages/pandas/util/_decorators.py:211\u001b[0m, in \u001b[0;36mdeprecate_kwarg.<locals>._deprecate_kwarg.<locals>.wrapper\u001b[0;34m(*args, **kwargs)\u001b[0m\n\u001b[1;32m    209\u001b[0m     \u001b[38;5;28;01melse\u001b[39;00m:\n\u001b[1;32m    210\u001b[0m         kwargs[new_arg_name] \u001b[38;5;241m=\u001b[39m new_arg_value\n\u001b[0;32m--> 211\u001b[0m \u001b[38;5;28;01mreturn\u001b[39;00m \u001b[43mfunc\u001b[49m\u001b[43m(\u001b[49m\u001b[38;5;241;43m*\u001b[39;49m\u001b[43margs\u001b[49m\u001b[43m,\u001b[49m\u001b[43m \u001b[49m\u001b[38;5;241;43m*\u001b[39;49m\u001b[38;5;241;43m*\u001b[39;49m\u001b[43mkwargs\u001b[49m\u001b[43m)\u001b[49m\n",
      "File \u001b[0;32m/opt/anaconda3/envs/dojo-env/lib/python3.10/site-packages/pandas/util/_decorators.py:331\u001b[0m, in \u001b[0;36mdeprecate_nonkeyword_arguments.<locals>.decorate.<locals>.wrapper\u001b[0;34m(*args, **kwargs)\u001b[0m\n\u001b[1;32m    325\u001b[0m \u001b[38;5;28;01mif\u001b[39;00m \u001b[38;5;28mlen\u001b[39m(args) \u001b[38;5;241m>\u001b[39m num_allow_args:\n\u001b[1;32m    326\u001b[0m     warnings\u001b[38;5;241m.\u001b[39mwarn(\n\u001b[1;32m    327\u001b[0m         msg\u001b[38;5;241m.\u001b[39mformat(arguments\u001b[38;5;241m=\u001b[39m_format_argument_list(allow_args)),\n\u001b[1;32m    328\u001b[0m         \u001b[38;5;167;01mFutureWarning\u001b[39;00m,\n\u001b[1;32m    329\u001b[0m         stacklevel\u001b[38;5;241m=\u001b[39mfind_stack_level(),\n\u001b[1;32m    330\u001b[0m     )\n\u001b[0;32m--> 331\u001b[0m \u001b[38;5;28;01mreturn\u001b[39;00m \u001b[43mfunc\u001b[49m\u001b[43m(\u001b[49m\u001b[38;5;241;43m*\u001b[39;49m\u001b[43margs\u001b[49m\u001b[43m,\u001b[49m\u001b[43m \u001b[49m\u001b[38;5;241;43m*\u001b[39;49m\u001b[38;5;241;43m*\u001b[39;49m\u001b[43mkwargs\u001b[49m\u001b[43m)\u001b[49m\n",
      "File \u001b[0;32m/opt/anaconda3/envs/dojo-env/lib/python3.10/site-packages/pandas/io/parsers/readers.py:950\u001b[0m, in \u001b[0;36mread_csv\u001b[0;34m(filepath_or_buffer, sep, delimiter, header, names, index_col, usecols, squeeze, prefix, mangle_dupe_cols, dtype, engine, converters, true_values, false_values, skipinitialspace, skiprows, skipfooter, nrows, na_values, keep_default_na, na_filter, verbose, skip_blank_lines, parse_dates, infer_datetime_format, keep_date_col, date_parser, dayfirst, cache_dates, iterator, chunksize, compression, thousands, decimal, lineterminator, quotechar, quoting, doublequote, escapechar, comment, encoding, encoding_errors, dialect, error_bad_lines, warn_bad_lines, on_bad_lines, delim_whitespace, low_memory, memory_map, float_precision, storage_options)\u001b[0m\n\u001b[1;32m    935\u001b[0m kwds_defaults \u001b[38;5;241m=\u001b[39m _refine_defaults_read(\n\u001b[1;32m    936\u001b[0m     dialect,\n\u001b[1;32m    937\u001b[0m     delimiter,\n\u001b[0;32m   (...)\u001b[0m\n\u001b[1;32m    946\u001b[0m     defaults\u001b[38;5;241m=\u001b[39m{\u001b[38;5;124m\"\u001b[39m\u001b[38;5;124mdelimiter\u001b[39m\u001b[38;5;124m\"\u001b[39m: \u001b[38;5;124m\"\u001b[39m\u001b[38;5;124m,\u001b[39m\u001b[38;5;124m\"\u001b[39m},\n\u001b[1;32m    947\u001b[0m )\n\u001b[1;32m    948\u001b[0m kwds\u001b[38;5;241m.\u001b[39mupdate(kwds_defaults)\n\u001b[0;32m--> 950\u001b[0m \u001b[38;5;28;01mreturn\u001b[39;00m \u001b[43m_read\u001b[49m\u001b[43m(\u001b[49m\u001b[43mfilepath_or_buffer\u001b[49m\u001b[43m,\u001b[49m\u001b[43m \u001b[49m\u001b[43mkwds\u001b[49m\u001b[43m)\u001b[49m\n",
      "File \u001b[0;32m/opt/anaconda3/envs/dojo-env/lib/python3.10/site-packages/pandas/io/parsers/readers.py:605\u001b[0m, in \u001b[0;36m_read\u001b[0;34m(filepath_or_buffer, kwds)\u001b[0m\n\u001b[1;32m    602\u001b[0m _validate_names(kwds\u001b[38;5;241m.\u001b[39mget(\u001b[38;5;124m\"\u001b[39m\u001b[38;5;124mnames\u001b[39m\u001b[38;5;124m\"\u001b[39m, \u001b[38;5;28;01mNone\u001b[39;00m))\n\u001b[1;32m    604\u001b[0m \u001b[38;5;66;03m# Create the parser.\u001b[39;00m\n\u001b[0;32m--> 605\u001b[0m parser \u001b[38;5;241m=\u001b[39m \u001b[43mTextFileReader\u001b[49m\u001b[43m(\u001b[49m\u001b[43mfilepath_or_buffer\u001b[49m\u001b[43m,\u001b[49m\u001b[43m \u001b[49m\u001b[38;5;241;43m*\u001b[39;49m\u001b[38;5;241;43m*\u001b[39;49m\u001b[43mkwds\u001b[49m\u001b[43m)\u001b[49m\n\u001b[1;32m    607\u001b[0m \u001b[38;5;28;01mif\u001b[39;00m chunksize \u001b[38;5;129;01mor\u001b[39;00m iterator:\n\u001b[1;32m    608\u001b[0m     \u001b[38;5;28;01mreturn\u001b[39;00m parser\n",
      "File \u001b[0;32m/opt/anaconda3/envs/dojo-env/lib/python3.10/site-packages/pandas/io/parsers/readers.py:1442\u001b[0m, in \u001b[0;36mTextFileReader.__init__\u001b[0;34m(self, f, engine, **kwds)\u001b[0m\n\u001b[1;32m   1439\u001b[0m     \u001b[38;5;28mself\u001b[39m\u001b[38;5;241m.\u001b[39moptions[\u001b[38;5;124m\"\u001b[39m\u001b[38;5;124mhas_index_names\u001b[39m\u001b[38;5;124m\"\u001b[39m] \u001b[38;5;241m=\u001b[39m kwds[\u001b[38;5;124m\"\u001b[39m\u001b[38;5;124mhas_index_names\u001b[39m\u001b[38;5;124m\"\u001b[39m]\n\u001b[1;32m   1441\u001b[0m \u001b[38;5;28mself\u001b[39m\u001b[38;5;241m.\u001b[39mhandles: IOHandles \u001b[38;5;241m|\u001b[39m \u001b[38;5;28;01mNone\u001b[39;00m \u001b[38;5;241m=\u001b[39m \u001b[38;5;28;01mNone\u001b[39;00m\n\u001b[0;32m-> 1442\u001b[0m \u001b[38;5;28mself\u001b[39m\u001b[38;5;241m.\u001b[39m_engine \u001b[38;5;241m=\u001b[39m \u001b[38;5;28;43mself\u001b[39;49m\u001b[38;5;241;43m.\u001b[39;49m\u001b[43m_make_engine\u001b[49m\u001b[43m(\u001b[49m\u001b[43mf\u001b[49m\u001b[43m,\u001b[49m\u001b[43m \u001b[49m\u001b[38;5;28;43mself\u001b[39;49m\u001b[38;5;241;43m.\u001b[39;49m\u001b[43mengine\u001b[49m\u001b[43m)\u001b[49m\n",
      "File \u001b[0;32m/opt/anaconda3/envs/dojo-env/lib/python3.10/site-packages/pandas/io/parsers/readers.py:1735\u001b[0m, in \u001b[0;36mTextFileReader._make_engine\u001b[0;34m(self, f, engine)\u001b[0m\n\u001b[1;32m   1733\u001b[0m     \u001b[38;5;28;01mif\u001b[39;00m \u001b[38;5;124m\"\u001b[39m\u001b[38;5;124mb\u001b[39m\u001b[38;5;124m\"\u001b[39m \u001b[38;5;129;01mnot\u001b[39;00m \u001b[38;5;129;01min\u001b[39;00m mode:\n\u001b[1;32m   1734\u001b[0m         mode \u001b[38;5;241m+\u001b[39m\u001b[38;5;241m=\u001b[39m \u001b[38;5;124m\"\u001b[39m\u001b[38;5;124mb\u001b[39m\u001b[38;5;124m\"\u001b[39m\n\u001b[0;32m-> 1735\u001b[0m \u001b[38;5;28mself\u001b[39m\u001b[38;5;241m.\u001b[39mhandles \u001b[38;5;241m=\u001b[39m \u001b[43mget_handle\u001b[49m\u001b[43m(\u001b[49m\n\u001b[1;32m   1736\u001b[0m \u001b[43m    \u001b[49m\u001b[43mf\u001b[49m\u001b[43m,\u001b[49m\n\u001b[1;32m   1737\u001b[0m \u001b[43m    \u001b[49m\u001b[43mmode\u001b[49m\u001b[43m,\u001b[49m\n\u001b[1;32m   1738\u001b[0m \u001b[43m    \u001b[49m\u001b[43mencoding\u001b[49m\u001b[38;5;241;43m=\u001b[39;49m\u001b[38;5;28;43mself\u001b[39;49m\u001b[38;5;241;43m.\u001b[39;49m\u001b[43moptions\u001b[49m\u001b[38;5;241;43m.\u001b[39;49m\u001b[43mget\u001b[49m\u001b[43m(\u001b[49m\u001b[38;5;124;43m\"\u001b[39;49m\u001b[38;5;124;43mencoding\u001b[39;49m\u001b[38;5;124;43m\"\u001b[39;49m\u001b[43m,\u001b[49m\u001b[43m \u001b[49m\u001b[38;5;28;43;01mNone\u001b[39;49;00m\u001b[43m)\u001b[49m\u001b[43m,\u001b[49m\n\u001b[1;32m   1739\u001b[0m \u001b[43m    \u001b[49m\u001b[43mcompression\u001b[49m\u001b[38;5;241;43m=\u001b[39;49m\u001b[38;5;28;43mself\u001b[39;49m\u001b[38;5;241;43m.\u001b[39;49m\u001b[43moptions\u001b[49m\u001b[38;5;241;43m.\u001b[39;49m\u001b[43mget\u001b[49m\u001b[43m(\u001b[49m\u001b[38;5;124;43m\"\u001b[39;49m\u001b[38;5;124;43mcompression\u001b[39;49m\u001b[38;5;124;43m\"\u001b[39;49m\u001b[43m,\u001b[49m\u001b[43m \u001b[49m\u001b[38;5;28;43;01mNone\u001b[39;49;00m\u001b[43m)\u001b[49m\u001b[43m,\u001b[49m\n\u001b[1;32m   1740\u001b[0m \u001b[43m    \u001b[49m\u001b[43mmemory_map\u001b[49m\u001b[38;5;241;43m=\u001b[39;49m\u001b[38;5;28;43mself\u001b[39;49m\u001b[38;5;241;43m.\u001b[39;49m\u001b[43moptions\u001b[49m\u001b[38;5;241;43m.\u001b[39;49m\u001b[43mget\u001b[49m\u001b[43m(\u001b[49m\u001b[38;5;124;43m\"\u001b[39;49m\u001b[38;5;124;43mmemory_map\u001b[39;49m\u001b[38;5;124;43m\"\u001b[39;49m\u001b[43m,\u001b[49m\u001b[43m \u001b[49m\u001b[38;5;28;43;01mFalse\u001b[39;49;00m\u001b[43m)\u001b[49m\u001b[43m,\u001b[49m\n\u001b[1;32m   1741\u001b[0m \u001b[43m    \u001b[49m\u001b[43mis_text\u001b[49m\u001b[38;5;241;43m=\u001b[39;49m\u001b[43mis_text\u001b[49m\u001b[43m,\u001b[49m\n\u001b[1;32m   1742\u001b[0m \u001b[43m    \u001b[49m\u001b[43merrors\u001b[49m\u001b[38;5;241;43m=\u001b[39;49m\u001b[38;5;28;43mself\u001b[39;49m\u001b[38;5;241;43m.\u001b[39;49m\u001b[43moptions\u001b[49m\u001b[38;5;241;43m.\u001b[39;49m\u001b[43mget\u001b[49m\u001b[43m(\u001b[49m\u001b[38;5;124;43m\"\u001b[39;49m\u001b[38;5;124;43mencoding_errors\u001b[39;49m\u001b[38;5;124;43m\"\u001b[39;49m\u001b[43m,\u001b[49m\u001b[43m \u001b[49m\u001b[38;5;124;43m\"\u001b[39;49m\u001b[38;5;124;43mstrict\u001b[39;49m\u001b[38;5;124;43m\"\u001b[39;49m\u001b[43m)\u001b[49m\u001b[43m,\u001b[49m\n\u001b[1;32m   1743\u001b[0m \u001b[43m    \u001b[49m\u001b[43mstorage_options\u001b[49m\u001b[38;5;241;43m=\u001b[39;49m\u001b[38;5;28;43mself\u001b[39;49m\u001b[38;5;241;43m.\u001b[39;49m\u001b[43moptions\u001b[49m\u001b[38;5;241;43m.\u001b[39;49m\u001b[43mget\u001b[49m\u001b[43m(\u001b[49m\u001b[38;5;124;43m\"\u001b[39;49m\u001b[38;5;124;43mstorage_options\u001b[39;49m\u001b[38;5;124;43m\"\u001b[39;49m\u001b[43m,\u001b[49m\u001b[43m \u001b[49m\u001b[38;5;28;43;01mNone\u001b[39;49;00m\u001b[43m)\u001b[49m\u001b[43m,\u001b[49m\n\u001b[1;32m   1744\u001b[0m \u001b[43m\u001b[49m\u001b[43m)\u001b[49m\n\u001b[1;32m   1745\u001b[0m \u001b[38;5;28;01massert\u001b[39;00m \u001b[38;5;28mself\u001b[39m\u001b[38;5;241m.\u001b[39mhandles \u001b[38;5;129;01mis\u001b[39;00m \u001b[38;5;129;01mnot\u001b[39;00m \u001b[38;5;28;01mNone\u001b[39;00m\n\u001b[1;32m   1746\u001b[0m f \u001b[38;5;241m=\u001b[39m \u001b[38;5;28mself\u001b[39m\u001b[38;5;241m.\u001b[39mhandles\u001b[38;5;241m.\u001b[39mhandle\n",
      "File \u001b[0;32m/opt/anaconda3/envs/dojo-env/lib/python3.10/site-packages/pandas/io/common.py:856\u001b[0m, in \u001b[0;36mget_handle\u001b[0;34m(path_or_buf, mode, encoding, compression, memory_map, is_text, errors, storage_options)\u001b[0m\n\u001b[1;32m    851\u001b[0m \u001b[38;5;28;01melif\u001b[39;00m \u001b[38;5;28misinstance\u001b[39m(handle, \u001b[38;5;28mstr\u001b[39m):\n\u001b[1;32m    852\u001b[0m     \u001b[38;5;66;03m# Check whether the filename is to be opened in binary mode.\u001b[39;00m\n\u001b[1;32m    853\u001b[0m     \u001b[38;5;66;03m# Binary mode does not support 'encoding' and 'newline'.\u001b[39;00m\n\u001b[1;32m    854\u001b[0m     \u001b[38;5;28;01mif\u001b[39;00m ioargs\u001b[38;5;241m.\u001b[39mencoding \u001b[38;5;129;01mand\u001b[39;00m \u001b[38;5;124m\"\u001b[39m\u001b[38;5;124mb\u001b[39m\u001b[38;5;124m\"\u001b[39m \u001b[38;5;129;01mnot\u001b[39;00m \u001b[38;5;129;01min\u001b[39;00m ioargs\u001b[38;5;241m.\u001b[39mmode:\n\u001b[1;32m    855\u001b[0m         \u001b[38;5;66;03m# Encoding\u001b[39;00m\n\u001b[0;32m--> 856\u001b[0m         handle \u001b[38;5;241m=\u001b[39m \u001b[38;5;28;43mopen\u001b[39;49m\u001b[43m(\u001b[49m\n\u001b[1;32m    857\u001b[0m \u001b[43m            \u001b[49m\u001b[43mhandle\u001b[49m\u001b[43m,\u001b[49m\n\u001b[1;32m    858\u001b[0m \u001b[43m            \u001b[49m\u001b[43mioargs\u001b[49m\u001b[38;5;241;43m.\u001b[39;49m\u001b[43mmode\u001b[49m\u001b[43m,\u001b[49m\n\u001b[1;32m    859\u001b[0m \u001b[43m            \u001b[49m\u001b[43mencoding\u001b[49m\u001b[38;5;241;43m=\u001b[39;49m\u001b[43mioargs\u001b[49m\u001b[38;5;241;43m.\u001b[39;49m\u001b[43mencoding\u001b[49m\u001b[43m,\u001b[49m\n\u001b[1;32m    860\u001b[0m \u001b[43m            \u001b[49m\u001b[43merrors\u001b[49m\u001b[38;5;241;43m=\u001b[39;49m\u001b[43merrors\u001b[49m\u001b[43m,\u001b[49m\n\u001b[1;32m    861\u001b[0m \u001b[43m            \u001b[49m\u001b[43mnewline\u001b[49m\u001b[38;5;241;43m=\u001b[39;49m\u001b[38;5;124;43m\"\u001b[39;49m\u001b[38;5;124;43m\"\u001b[39;49m\u001b[43m,\u001b[49m\n\u001b[1;32m    862\u001b[0m \u001b[43m        \u001b[49m\u001b[43m)\u001b[49m\n\u001b[1;32m    863\u001b[0m     \u001b[38;5;28;01melse\u001b[39;00m:\n\u001b[1;32m    864\u001b[0m         \u001b[38;5;66;03m# Binary mode\u001b[39;00m\n\u001b[1;32m    865\u001b[0m         handle \u001b[38;5;241m=\u001b[39m \u001b[38;5;28mopen\u001b[39m(handle, ioargs\u001b[38;5;241m.\u001b[39mmode)\n",
      "\u001b[0;31mFileNotFoundError\u001b[0m: [Errno 2] No such file or directory: '/Users/marcolaureano2/Documents/GitHub/Titanic/Data/titanic_dirty.csv'"
     ]
    }
   ],
   "source": [
    "# load data as dataframe\n",
    "df = pd.read_csv(\"/Users/marcolaureano2/Documents/GitHub/Titanic/Data/titanic_dirty.csv\")\n",
    "df"
   ]
  },
  {
   "cell_type": "markdown",
   "id": "851be7aa-8e5f-4c27-8b56-177cb5fb7ba6",
   "metadata": {},
   "source": [
    "## EDA"
   ]
  },
  {
   "cell_type": "code",
   "execution_count": null,
   "id": "a0d97a08-ef53-426e-ade5-c2c6212ca36c",
   "metadata": {
    "tags": []
   },
   "outputs": [],
   "source": [
    "df.info()"
   ]
  },
  {
   "cell_type": "code",
   "execution_count": null,
   "id": "41a76b6e-4ba4-4b2f-a2a3-cae8652f5f53",
   "metadata": {
    "tags": []
   },
   "outputs": [],
   "source": [
    "# View object columns only\n",
    "df.select_dtypes(include='object')"
   ]
  },
  {
   "cell_type": "markdown",
   "id": "d7683853-881e-4f68-8cca-55bf67f4ba01",
   "metadata": {},
   "source": [
    "### Convert 'Fare' dtype"
   ]
  },
  {
   "cell_type": "code",
   "execution_count": null,
   "id": "d3772964-b31b-4ecf-b31d-b16184d7ac21",
   "metadata": {
    "tags": []
   },
   "outputs": [],
   "source": [
    "# remove $\n",
    "df['Fare'] = df['Fare'].str.replace('$', '')"
   ]
  },
  {
   "cell_type": "code",
   "execution_count": null,
   "id": "31daba4c-4e09-483b-b462-f91319dc008b",
   "metadata": {
    "tags": []
   },
   "outputs": [],
   "source": [
    "# confirm $ has been removed\n",
    "df['Fare']"
   ]
  },
  {
   "cell_type": "code",
   "execution_count": null,
   "id": "d86fafa9-51cc-4d09-b5cd-529244dc4fa0",
   "metadata": {
    "tags": []
   },
   "outputs": [],
   "source": [
    "# change dtype to float\n",
    "df['Fare'] = df['Fare'].astype(float)\n",
    "\n",
    "# confirm change\n",
    "df['Fare'].dtype"
   ]
  },
  {
   "cell_type": "markdown",
   "id": "40cff248-b2a9-4868-a3f5-af447808f4dd",
   "metadata": {},
   "source": [
    "### Convert SibSp"
   ]
  },
  {
   "cell_type": "code",
   "execution_count": null,
   "id": "db6ff514-1b49-4c01-bbbd-79f2b0937e9d",
   "metadata": {
    "tags": []
   },
   "outputs": [],
   "source": [
    "# inspect value counts\n",
    "df['SibSp'].value_counts()"
   ]
  },
  {
   "cell_type": "code",
   "execution_count": null,
   "id": "071ab295-15b3-4003-9e1e-f837030f706b",
   "metadata": {
    "tags": []
   },
   "outputs": [],
   "source": [
    "# standardize one/1\n",
    "df['SibSp'] = df['SibSp'].str.replace('one', '1')\n",
    "\n",
    "# confirm change\n",
    "df['SibSp'].value_counts()"
   ]
  },
  {
   "cell_type": "code",
   "execution_count": null,
   "id": "b3c26754-8c92-4b05-b422-089e1d7fd73f",
   "metadata": {
    "tags": []
   },
   "outputs": [],
   "source": [
    "# convert dtype to float\n",
    "df['SibSp'] = df['SibSp'].astype(int)\n",
    "\n",
    "# confirm change\n",
    "df['SibSp'].dtype"
   ]
  },
  {
   "cell_type": "code",
   "execution_count": null,
   "id": "73d753c5-2b4b-4503-b2f8-69d46026482c",
   "metadata": {
    "tags": []
   },
   "outputs": [],
   "source": [
    "# View object columns only to confirm changes\n",
    "df.select_dtypes(include='object')"
   ]
  },
  {
   "cell_type": "markdown",
   "id": "b3ae5c79-b076-47e8-a57b-f1bc71dda9c1",
   "metadata": {},
   "source": [
    "### Drop unwanted columns"
   ]
  },
  {
   "cell_type": "code",
   "execution_count": null,
   "id": "5f8a7061-35b7-401d-a1d0-74b75dbccc26",
   "metadata": {
    "tags": []
   },
   "outputs": [],
   "source": [
    "df"
   ]
  },
  {
   "cell_type": "code",
   "execution_count": null,
   "id": "fa36c241-ffb9-4fa0-88e3-7b9a18e93e13",
   "metadata": {
    "tags": []
   },
   "outputs": [],
   "source": [
    "# Drop the Unnamed: 0 column\n",
    "df.drop(columns='Unnamed: 0', inplace = True)\n",
    "df.set_index('PassengerId')\n",
    "\n",
    "# Display the .head to confirm the change\n",
    "df.head()"
   ]
  },
  {
   "cell_type": "markdown",
   "id": "664c14d6-a2af-4afa-9753-66c17d6b0ee9",
   "metadata": {},
   "source": [
    "### Rename Columns"
   ]
  },
  {
   "cell_type": "code",
   "execution_count": null,
   "id": "01687733-2fc4-4d8d-b50e-8eea8f4dd4db",
   "metadata": {
    "tags": []
   },
   "outputs": [],
   "source": [
    "# rename dictionary\n",
    "rename_dict = {'SibSp': 'Siblings or Spouses', 'Parch': 'Parents or Children'}"
   ]
  },
  {
   "cell_type": "code",
   "execution_count": null,
   "id": "a27ff7fe-36df-4607-8524-ba0d69848304",
   "metadata": {
    "tags": []
   },
   "outputs": [],
   "source": [
    "# rename\n",
    "df.rename(columns=rename_dict, inplace = True)\n",
    "\n",
    "# confirm changes\n",
    "df.head()"
   ]
  },
  {
   "cell_type": "markdown",
   "id": "eefacee3-67a9-4991-80fe-38c0990b698a",
   "metadata": {},
   "source": [
    "### Duplicates"
   ]
  },
  {
   "cell_type": "code",
   "execution_count": null,
   "id": "574be281-449f-40e0-baf2-0467bd6ca92a",
   "metadata": {
    "tags": []
   },
   "outputs": [],
   "source": [
    "# identify duplicates\n",
    "duplicated_rows = df.duplicated()\n",
    "duplicated_rows.sum()"
   ]
  },
  {
   "cell_type": "code",
   "execution_count": null,
   "id": "295149de-c07f-4a72-b005-69d0bfb013eb",
   "metadata": {
    "tags": []
   },
   "outputs": [],
   "source": [
    "# get all duplicates\n",
    "duplicated_rows_all = df.duplicated(keep=False)\n",
    "\n",
    "duplicated_rows_all.sum()"
   ]
  },
  {
   "cell_type": "code",
   "execution_count": null,
   "id": "5bfeff4d-9f81-4e4c-9bc6-274bcd02dedd",
   "metadata": {
    "tags": []
   },
   "outputs": [],
   "source": [
    "# visualize duplicates, sort by PassengerId\n",
    "df[duplicated_rows_all].sort_values('PassengerId')"
   ]
  },
  {
   "cell_type": "code",
   "execution_count": null,
   "id": "ad925b28-4e4a-4cb2-8a5e-ef8eda5f63ac",
   "metadata": {
    "tags": []
   },
   "outputs": [],
   "source": [
    " # drop duplicates\n",
    "df = df.drop_duplicates()\n",
    "\n",
    "# confirm duplicates have been removed\n",
    "df.duplicated().sum()"
   ]
  },
  {
   "cell_type": "markdown",
   "id": "4f17482e-9071-4e78-b7ef-ccae10fb8dca",
   "metadata": {},
   "source": [
    "### Unique Identifiers "
   ]
  },
  {
   "cell_type": "code",
   "execution_count": null,
   "id": "aabff3f6-96ec-474d-8d23-f3dd7810ded1",
   "metadata": {
    "tags": []
   },
   "outputs": [],
   "source": [
    "# get unique values\n",
    "df.nunique()"
   ]
  },
  {
   "cell_type": "code",
   "execution_count": null,
   "id": "72ded44d-7a4d-4b41-b4ff-ef8302eaaba1",
   "metadata": {
    "tags": []
   },
   "outputs": [],
   "source": [
    "# get percent of unique values per column\n",
    "df.nunique() / len(df) * 100"
   ]
  },
  {
   "cell_type": "markdown",
   "id": "5a86e972-0f77-4355-b2da-55ed298d0be9",
   "metadata": {},
   "source": [
    "### Inspect unique columns"
   ]
  },
  {
   "cell_type": "code",
   "execution_count": null,
   "id": "f9ae8335-5fe7-4f64-872e-45404fa487cc",
   "metadata": {
    "tags": []
   },
   "outputs": [],
   "source": [
    "# slice out unique columns\n",
    "df.loc[:, ['PassengerId', 'Name']]"
   ]
  },
  {
   "cell_type": "markdown",
   "id": "2bb8ac83-6412-492b-8fde-1491dcc3136e",
   "metadata": {},
   "source": [
    "### Set PassengerId as index"
   ]
  },
  {
   "cell_type": "code",
   "execution_count": null,
   "id": "ca772b05-e701-4275-b9d0-e25006182a51",
   "metadata": {
    "tags": []
   },
   "outputs": [],
   "source": [
    "# set index\n",
    "df = df.set_index('PassengerId')\n",
    "\n",
    "# confirm\n",
    "df"
   ]
  },
  {
   "cell_type": "markdown",
   "id": "e20b70cd-5a98-403f-82da-fee1e14b0a02",
   "metadata": {},
   "source": [
    "### Drop string column Name"
   ]
  },
  {
   "cell_type": "code",
   "execution_count": null,
   "id": "551a42f4-f492-4235-9ad0-06e088043559",
   "metadata": {
    "tags": []
   },
   "outputs": [],
   "source": [
    "df = df.drop('Name', axis = 1)"
   ]
  },
  {
   "cell_type": "code",
   "execution_count": null,
   "id": "71cf48e2-1361-47a1-abd5-f6ded89fbac0",
   "metadata": {
    "tags": []
   },
   "outputs": [],
   "source": [
    "# confirm\n",
    "df"
   ]
  },
  {
   "cell_type": "markdown",
   "id": "1fa5d5f3-bbaa-4f63-8f8d-b2d519f2c8f8",
   "metadata": {},
   "source": [
    "## Missing values"
   ]
  },
  {
   "cell_type": "code",
   "execution_count": null,
   "id": "4ca9f897-4dc4-4e8c-b56c-90a1b4525974",
   "metadata": {
    "tags": []
   },
   "outputs": [],
   "source": [
    "# get null counts\n",
    "null_sums = df.isna().sum()\n",
    "null_sums"
   ]
  },
  {
   "cell_type": "code",
   "execution_count": null,
   "id": "d4587339-4a26-484b-9ae8-750d7b4113f8",
   "metadata": {
    "tags": []
   },
   "outputs": [],
   "source": [
    "# calculate null percent\n",
    "null_percent = null_sums/len(df) * 100\n",
    "null_percent"
   ]
  },
  {
   "cell_type": "code",
   "execution_count": null,
   "id": "b62ddd97-7f97-4092-aa49-459df00f14ad",
   "metadata": {
    "tags": []
   },
   "outputs": [],
   "source": [
    "# visualize missing values \n",
    "null_percent[null_percent>0]"
   ]
  },
  {
   "cell_type": "code",
   "execution_count": null,
   "id": "2e18ccaf-b152-4b2a-bed1-749245fc297e",
   "metadata": {
    "tags": []
   },
   "outputs": [],
   "source": [
    "# missingno visualization\n",
    "msno.matrix(df);"
   ]
  },
  {
   "cell_type": "markdown",
   "id": "c573da6f-b277-4b66-adb0-8da9a8358f1a",
   "metadata": {},
   "source": [
    "### Address nulls"
   ]
  },
  {
   "cell_type": "code",
   "execution_count": null,
   "id": "dc8c11f8-cad0-4803-8621-ced1f519e901",
   "metadata": {
    "tags": []
   },
   "outputs": [],
   "source": [
    "# cabin nulls\n",
    "null_cabin = df['Cabin'].isna()\n",
    "null_cabin"
   ]
  },
  {
   "cell_type": "code",
   "execution_count": null,
   "id": "acd7d2d0-d52f-439e-a421-920c5c0a7d83",
   "metadata": {
    "tags": []
   },
   "outputs": [],
   "source": [
    "# fill null categorical values with MISSING\n",
    "cat_cols = df.select_dtypes('object').columns\n",
    "\n",
    "df[cat_cols] = df[cat_cols].fillna('MISSING')"
   ]
  },
  {
   "cell_type": "code",
   "execution_count": null,
   "id": "37aaacc1-569e-4285-8e9e-58dfe4ac6480",
   "metadata": {
    "tags": []
   },
   "outputs": [],
   "source": [
    "# numerical columns\n",
    "num_cols = df.select_dtypes(include=['int64'])\n",
    "num_cols"
   ]
  },
  {
   "cell_type": "code",
   "execution_count": null,
   "id": "17fd6daf-3e59-4ea5-acf3-c69721a7b8e9",
   "metadata": {
    "tags": []
   },
   "outputs": [],
   "source": [
    "df = df.fillna('-1')"
   ]
  },
  {
   "cell_type": "code",
   "execution_count": null,
   "id": "ae368d22-a13b-4099-9a9a-d4ba68d369aa",
   "metadata": {
    "tags": []
   },
   "outputs": [],
   "source": [
    "df[df.notnull().all(1)]"
   ]
  },
  {
   "cell_type": "code",
   "execution_count": null,
   "id": "1aa34db8-3f26-4666-9dca-313f8fb0f49f",
   "metadata": {
    "tags": []
   },
   "outputs": [],
   "source": [
    "# confirm no more nulls\n",
    "msno.matrix(df);"
   ]
  },
  {
   "cell_type": "markdown",
   "id": "0735d612-2205-40bf-87c0-acb5cce7e2dd",
   "metadata": {},
   "source": [
    "## Consistent Values"
   ]
  },
  {
   "cell_type": "code",
   "execution_count": null,
   "id": "83ad0f28-a0ef-4bcf-8a96-ad09d610c237",
   "metadata": {
    "tags": []
   },
   "outputs": [],
   "source": [
    "# list of object columns\n",
    "string_cols = df.select_dtypes('object').columns\n",
    "string_cols"
   ]
  },
  {
   "cell_type": "code",
   "execution_count": null,
   "id": "0cccd82b-f02a-4374-b2fe-46704b32bc05",
   "metadata": {
    "tags": []
   },
   "outputs": [],
   "source": [
    "# check nunique for object string_cols\n",
    "string_cols.nunique()"
   ]
  },
  {
   "cell_type": "code",
   "execution_count": null,
   "id": "a128ffd9-5ee4-45b1-8871-c9499fa541bc",
   "metadata": {},
   "outputs": [],
   "source": []
  }
 ],
 "metadata": {
  "kernelspec": {
   "display_name": "Python (dojo-env)",
   "language": "python",
   "name": "dojo-env"
  },
  "language_info": {
   "codemirror_mode": {
    "name": "ipython",
    "version": 3
   },
   "file_extension": ".py",
   "mimetype": "text/x-python",
   "name": "python",
   "nbconvert_exporter": "python",
   "pygments_lexer": "ipython3",
   "version": "3.10.10"
  },
  "widgets": {
   "application/vnd.jupyter.widget-state+json": {
    "state": {},
    "version_major": 2,
    "version_minor": 0
   }
  }
 },
 "nbformat": 4,
 "nbformat_minor": 5
}
